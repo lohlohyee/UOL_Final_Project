{
 "cells": [
  {
   "cell_type": "markdown",
   "metadata": {},
   "source": [
    "## Automated Fake News Detection and Reliable News Source Recommendation"
   ]
  },
  {
   "cell_type": "markdown",
   "metadata": {},
   "source": [
    "### Objectives\n",
    "\n",
    "- The program should accept links as input and extract the entire title and content from those links with at least 95% accuracy in capturing the text as compared to the original webpage. \n",
    "\n",
    "- The program should achieve a minimum accuracy rate of 80% when the program is identifying fake news articles. \n",
    "\n",
    "- The program  should provide an analysis and suggestion within 10 seconds of each article link it is fed. \n",
    "\n",
    "- At least 90% of the suggested alternative news sources should be verified as reliable by recognized media watchdogs.\n"
   ]
  },
  {
   "cell_type": "markdown",
   "metadata": {},
   "source": [
    "### Setup and Libraries Installation"
   ]
  },
  {
   "cell_type": "code",
   "execution_count": 1,
   "metadata": {},
   "outputs": [],
   "source": [
    "# Load libraries\n",
    "\n",
    "import re\n",
    "import pandas as pd\n",
    "import nltk\n",
    "import numpy as np\n",
    "import matplotlib.pyplot as plt\n",
    "from nltk.corpus import stopwords\n",
    "from nltk.tokenize import word_tokenize\n",
    "from nltk.stem import WordNetLemmatizer\n",
    "from sklearn.feature_extraction.text import TfidfVectorizer\n",
    "import warnings\n",
    "warnings.filterwarnings('ignore')"
   ]
  },
  {
   "cell_type": "markdown",
   "metadata": {},
   "source": [
    "### Data Collection and Web Scraping"
   ]
  },
  {
   "cell_type": "code",
   "execution_count": 2,
   "metadata": {},
   "outputs": [
    {
     "name": "stderr",
     "output_type": "stream",
     "text": [
      "[nltk_data] Downloading package punkt to\n",
      "[nltk_data]     C:\\Users\\Admin\\AppData\\Roaming\\nltk_data...\n",
      "[nltk_data]   Package punkt is already up-to-date!\n",
      "[nltk_data] Downloading package stopwords to\n",
      "[nltk_data]     C:\\Users\\Admin\\AppData\\Roaming\\nltk_data...\n",
      "[nltk_data]   Package stopwords is already up-to-date!\n",
      "[nltk_data] Downloading package wordnet to\n",
      "[nltk_data]     C:\\Users\\Admin\\AppData\\Roaming\\nltk_data...\n",
      "[nltk_data]   Package wordnet is already up-to-date!\n"
     ]
    },
    {
     "data": {
      "text/plain": [
       "True"
      ]
     },
     "execution_count": 2,
     "metadata": {},
     "output_type": "execute_result"
    }
   ],
   "source": [
    "# Download the stopwords\n",
    "\n",
    "nltk.download('punkt')\n",
    "nltk.download('stopwords')\n",
    "nltk.download('wordnet')"
   ]
  },
  {
   "cell_type": "code",
   "execution_count": 3,
   "metadata": {},
   "outputs": [],
   "source": [
    "bbc_data = pd.read_csv('bbc_articles.csv')"
   ]
  },
  {
   "cell_type": "code",
   "execution_count": 4,
   "metadata": {},
   "outputs": [
    {
     "name": "stdout",
     "output_type": "stream",
     "text": [
      "<class 'pandas.core.frame.DataFrame'>\n",
      "RangeIndex: 775 entries, 0 to 774\n",
      "Data columns (total 3 columns):\n",
      " #   Column   Non-Null Count  Dtype \n",
      "---  ------   --------------  ----- \n",
      " 0   url      775 non-null    object\n",
      " 1   title    775 non-null    object\n",
      " 2   content  775 non-null    object\n",
      "dtypes: object(3)\n",
      "memory usage: 18.3+ KB\n"
     ]
    }
   ],
   "source": [
    "bbc_data.info()"
   ]
  },
  {
   "cell_type": "code",
   "execution_count": 5,
   "metadata": {},
   "outputs": [
    {
     "name": "stdout",
     "output_type": "stream",
     "text": [
      "<class 'pandas.core.frame.DataFrame'>\n",
      "RangeIndex: 327 entries, 0 to 326\n",
      "Data columns (total 2 columns):\n",
      " #   Column        Non-Null Count  Dtype \n",
      "---  ------        --------------  ----- \n",
      " 0   Site name     327 non-null    object\n",
      " 1   Type of site  327 non-null    object\n",
      "dtypes: object(2)\n",
      "memory usage: 5.2+ KB\n"
     ]
    }
   ],
   "source": [
    "fake_news = pd.read_csv('fake-news.csv')\n",
    "\n",
    "fake_news.info()"
   ]
  },
  {
   "cell_type": "code",
   "execution_count": 6,
   "metadata": {},
   "outputs": [
    {
     "name": "stdout",
     "output_type": "stream",
     "text": [
      "<class 'pandas.core.frame.DataFrame'>\n",
      "RangeIndex: 406 entries, 0 to 405\n",
      "Data columns (total 2 columns):\n",
      " #   Column  Non-Null Count  Dtype \n",
      "---  ------  --------------  ----- \n",
      " 0   Domain  402 non-null    object\n",
      " 1   Notes   224 non-null    object\n",
      "dtypes: object(2)\n",
      "memory usage: 6.5+ KB\n"
     ]
    }
   ],
   "source": [
    "fake_news_2 = pd.read_excel('fake.xlsx')\n",
    "\n",
    "fake_news_2.info()"
   ]
  },
  {
   "cell_type": "code",
   "execution_count": 7,
   "metadata": {},
   "outputs": [],
   "source": [
    "# Preprocessing\n",
    "\n",
    "fake_news.rename(columns = {'Site name': 'url'}, inplace = True)\n",
    "\n",
    "fake_news_2.rename(columns = {'Domain': 'url'}, inplace = True)\n",
    "\n",
    "fake_news_2.rename(columns = {'Notes': 'content'}, inplace = True)\n",
    "\n",
    "fake_news_2.fillna('Fake News', inplace = True)\n",
    "\n",
    "fake_news.rename(columns = {'Type of site': 'content'}, inplace = True)"
   ]
  },
  {
   "cell_type": "code",
   "execution_count": 8,
   "metadata": {},
   "outputs": [
    {
     "name": "stdout",
     "output_type": "stream",
     "text": [
      "<class 'pandas.core.frame.DataFrame'>\n",
      "RangeIndex: 406 entries, 0 to 405\n",
      "Data columns (total 2 columns):\n",
      " #   Column   Non-Null Count  Dtype \n",
      "---  ------   --------------  ----- \n",
      " 0   url      406 non-null    object\n",
      " 1   content  406 non-null    object\n",
      "dtypes: object(2)\n",
      "memory usage: 6.5+ KB\n"
     ]
    }
   ],
   "source": [
    "fake_news_2.info()"
   ]
  },
  {
   "cell_type": "code",
   "execution_count": 9,
   "metadata": {},
   "outputs": [
    {
     "name": "stdout",
     "output_type": "stream",
     "text": [
      "<class 'pandas.core.frame.DataFrame'>\n",
      "RangeIndex: 327 entries, 0 to 326\n",
      "Data columns (total 2 columns):\n",
      " #   Column   Non-Null Count  Dtype \n",
      "---  ------   --------------  ----- \n",
      " 0   url      327 non-null    object\n",
      " 1   content  327 non-null    object\n",
      "dtypes: object(2)\n",
      "memory usage: 5.2+ KB\n"
     ]
    }
   ],
   "source": [
    "fake_news.info()"
   ]
  },
  {
   "cell_type": "code",
   "execution_count": 10,
   "metadata": {},
   "outputs": [],
   "source": [
    "# Concatenate the two fake news datasets and drop Status, notes columns\n",
    "\n",
    "fake_news = pd.concat([fake_news, fake_news_2], ignore_index = True)\n",
    "\n",
    "fake_news['label'] = 0 # Fake news\n",
    "\n",
    "bbc_data['label'] = 1 # Real news\n",
    "\n",
    "# Since we do not have titles for fake news, we'll leave them empty\n",
    "fake_news['title'] = ''\n",
    "\n",
    "# Select only the relevant columns\n",
    "fake_news = fake_news[['url', 'title', 'content', 'label']]\n",
    "\n",
    "# Select only the relevant columns from BBC news\n",
    "bbc_news = bbc_data[['url', 'title', 'content', 'label']]"
   ]
  },
  {
   "cell_type": "markdown",
   "metadata": {},
   "source": [
    "### Text Preprocessing"
   ]
  },
  {
   "cell_type": "code",
   "execution_count": 11,
   "metadata": {},
   "outputs": [],
   "source": [
    "def preprocess_text(text):\n",
    "    # Remove HTML tags\n",
    "    text = re.sub(r'<[^>]+>', '', text)\n",
    "    # Remove special characters\n",
    "    text = re.sub(r'\\W', ' ', text)\n",
    "    # Tokenize text\n",
    "    tokens = word_tokenize(text.lower())\n",
    "    # Lemmatize tokens\n",
    "    lemmatizer = WordNetLemmatizer()\n",
    "    \n",
    "    tokens = [lemmatizer.lemmatize(word) for word in tokens if word not in stopwords.words('english')]\n",
    "    \n",
    "    return ' '.join(tokens)"
   ]
  },
  {
   "cell_type": "code",
   "execution_count": 12,
   "metadata": {},
   "outputs": [],
   "source": [
    "# Add a new column to store the preprocessed text\n",
    "fake_news['processed_content'] = fake_news['content'].apply(preprocess_text)\n",
    "\n",
    "bbc_news['processed_content'] = bbc_news['content'].apply(preprocess_text)"
   ]
  },
  {
   "cell_type": "code",
   "execution_count": 13,
   "metadata": {},
   "outputs": [
    {
     "name": "stdout",
     "output_type": "stream",
     "text": [
      "<class 'pandas.core.frame.DataFrame'>\n",
      "RangeIndex: 1508 entries, 0 to 1507\n",
      "Data columns (total 5 columns):\n",
      " #   Column             Non-Null Count  Dtype \n",
      "---  ------             --------------  ----- \n",
      " 0   url                1508 non-null   object\n",
      " 1   title              1508 non-null   object\n",
      " 2   content            1508 non-null   object\n",
      " 3   label              1508 non-null   int64 \n",
      " 4   processed_content  1508 non-null   object\n",
      "dtypes: int64(1), object(4)\n",
      "memory usage: 59.0+ KB\n"
     ]
    }
   ],
   "source": [
    "# Combine the two datasets\n",
    "combined_data = pd.concat([fake_news, bbc_news], ignore_index = True)\n",
    "\n",
    "combined_data.info()"
   ]
  },
  {
   "cell_type": "code",
   "execution_count": 14,
   "metadata": {},
   "outputs": [
    {
     "data": {
      "text/plain": [
       "<Axes: xlabel='label'>"
      ]
     },
     "execution_count": 14,
     "metadata": {},
     "output_type": "execute_result"
    },
    {
     "data": {
      "image/png": "[encoded data removed]",
      "text/plain": [
       "<Figure size 640x480 with 1 Axes>"
      ]
     },
     "metadata": {},
     "output_type": "display_data"
    }
   ],
   "source": [
    "# Plot the distribution of the labels\n",
    "combined_data['label'].value_counts().plot(kind = 'bar')"
   ]
  },
  {
   "cell_type": "markdown",
   "metadata": {},
   "source": [
    "### Model Training and Evaluation"
   ]
  },
  {
   "cell_type": "code",
   "execution_count": 15,
   "metadata": {},
   "outputs": [
    {
     "name": "stdout",
     "output_type": "stream",
     "text": [
      "<class 'pandas.core.frame.DataFrame'>\n",
      "RangeIndex: 1508 entries, 0 to 1507\n",
      "Data columns (total 5 columns):\n",
      " #   Column             Non-Null Count  Dtype \n",
      "---  ------             --------------  ----- \n",
      " 0   url                1508 non-null   object\n",
      " 1   title              1508 non-null   object\n",
      " 2   content            1508 non-null   object\n",
      " 3   label              1508 non-null   int64 \n",
      " 4   processed_content  1508 non-null   object\n",
      "dtypes: int64(1), object(4)\n",
      "memory usage: 59.0+ KB\n"
     ]
    }
   ],
   "source": [
    "combined_data.info()"
   ]
  },
  {
   "cell_type": "code",
   "execution_count": 36,
   "metadata": {},
   "outputs": [],
   "source": [
    "# Vectorize text using TF-IDF\n",
    "\n",
    "vectorizer = TfidfVectorizer(max_features=5000)\n",
    "\n",
    "X = vectorizer.fit_transform(combined_data['processed_content']).toarray()\n",
    "\n",
    "y = combined_data['label']"
   ]
  },
  {
   "cell_type": "code",
   "execution_count": 38,
   "metadata": {},
   "outputs": [],
   "source": [
    "import numpy as np\n",
    "import pandas as pd\n",
    "import matplotlib.pyplot as plt\n",
    "import seaborn as sns\n",
    "from sklearn.metrics import confusion_matrix, accuracy_score, classification_report, ConfusionMatrixDisplay\n",
    "from sklearn.model_selection import train_test_split\n",
    "from sklearn.linear_model import LogisticRegression\n",
    "from sklearn.ensemble import RandomForestClassifier\n",
    "from sklearn.tree import DecisionTreeClassifier\n",
    "from sklearn.svm import SVC\n",
    "import tensorflow as tf\n",
    "from tensorflow.keras.models import Sequential\n",
    "from tensorflow.keras.layers import Dense, Dropout"
   ]
  },
  {
   "cell_type": "code",
   "execution_count": 39,
   "metadata": {},
   "outputs": [
    {
     "name": "stdout",
     "output_type": "stream",
     "text": [
      "Epoch 1/5\n",
      "19/19 [==============================] - 0s 10ms/step - loss: 0.4522 - accuracy: 0.8400 - val_loss: 0.1728 - val_accuracy: 0.9702\n",
      "Epoch 2/5\n",
      "19/19 [==============================] - 0s 4ms/step - loss: 0.0674 - accuracy: 0.9900 - val_loss: 0.0089 - val_accuracy: 1.0000\n",
      "Epoch 3/5\n",
      "19/19 [==============================] - 0s 4ms/step - loss: 0.0081 - accuracy: 0.9967 - val_loss: 0.0032 - val_accuracy: 1.0000\n",
      "Epoch 4/5\n",
      "19/19 [==============================] - 0s 4ms/step - loss: 0.0028 - accuracy: 0.9992 - val_loss: 0.0033 - val_accuracy: 1.0000\n",
      "Epoch 5/5\n",
      "19/19 [==============================] - 0s 4ms/step - loss: 0.0012 - accuracy: 1.0000 - val_loss: 0.0028 - val_accuracy: 1.0000\n",
      "Confusion Matrix for Logistic Regression:\n",
      "[[143   4]\n",
      " [  0 155]]\n",
      "\n",
      "Logistic Regression Accuracy: 0.9867549668874173\n",
      "Logistic Regression Classification Report:\n",
      "              precision    recall  f1-score   support\n",
      "\n",
      "           0       1.00      0.97      0.99       147\n",
      "           1       0.97      1.00      0.99       155\n",
      "\n",
      "    accuracy                           0.99       302\n",
      "   macro avg       0.99      0.99      0.99       302\n",
      "weighted avg       0.99      0.99      0.99       302\n",
      "\n"
     ]
    },
    {
     "data": {
      "image/png": "[encoded data removed]",
      "text/plain": [
       "<Figure size 640x480 with 2 Axes>"
      ]
     },
     "metadata": {},
     "output_type": "display_data"
    },
    {
     "name": "stdout",
     "output_type": "stream",
     "text": [
      "Confusion Matrix for Random Forest:\n",
      "[[147   0]\n",
      " [  0 155]]\n",
      "\n",
      "Random Forest Accuracy: 1.0\n",
      "Random Forest Classification Report:\n",
      "              precision    recall  f1-score   support\n",
      "\n",
      "           0       1.00      1.00      1.00       147\n",
      "           1       1.00      1.00      1.00       155\n",
      "\n",
      "    accuracy                           1.00       302\n",
      "   macro avg       1.00      1.00      1.00       302\n",
      "weighted avg       1.00      1.00      1.00       302\n",
      "\n"
     ]
    },
    {
     "data": {
      "image/png": "[encoded data removed]",
      "text/plain": [
       "<Figure size 640x480 with 2 Axes>"
      ]
     },
     "metadata": {},
     "output_type": "display_data"
    },
    {
     "name": "stdout",
     "output_type": "stream",
     "text": [
      "Confusion Matrix for Decision Tree:\n",
      "[[147   0]\n",
      " [  0 155]]\n",
      "\n",
      "Decision Tree Accuracy: 1.0\n",
      "Decision Tree Classification Report:\n",
      "              precision    recall  f1-score   support\n",
      "\n",
      "           0       1.00      1.00      1.00       147\n",
      "           1       1.00      1.00      1.00       155\n",
      "\n",
      "    accuracy                           1.00       302\n",
      "   macro avg       1.00      1.00      1.00       302\n",
      "weighted avg       1.00      1.00      1.00       302\n",
      "\n"
     ]
    },
    {
     "data": {
      "image/png": "[encoded data removed]",
      "text/plain": [
       "<Figure size 640x480 with 2 Axes>"
      ]
     },
     "metadata": {},
     "output_type": "display_data"
    },
    {
     "name": "stdout",
     "output_type": "stream",
     "text": [
      "Confusion Matrix for SVM:\n",
      "[[145   2]\n",
      " [  0 155]]\n",
      "\n",
      "SVM Accuracy: 0.9933774834437086\n",
      "SVM Classification Report:\n",
      "              precision    recall  f1-score   support\n",
      "\n",
      "           0       1.00      0.99      0.99       147\n",
      "           1       0.99      1.00      0.99       155\n",
      "\n",
      "    accuracy                           0.99       302\n",
      "   macro avg       0.99      0.99      0.99       302\n",
      "weighted avg       0.99      0.99      0.99       302\n",
      "\n"
     ]
    },
    {
     "data": {
      "image/png": "[encoded data removed]",
      "text/plain": [
       "<Figure size 640x480 with 2 Axes>"
      ]
     },
     "metadata": {},
     "output_type": "display_data"
    },
    {
     "name": "stdout",
     "output_type": "stream",
     "text": [
      "10/10 [==============================] - 0s 1ms/step\n",
      "Confusion Matrix for Deep Learning:\n",
      "[[147   0]\n",
      " [  0 155]]\n",
      "\n",
      "Deep Learning Accuracy: 1.0\n",
      "Deep Learning Classification Report:\n",
      "              precision    recall  f1-score   support\n",
      "\n",
      "           0       1.00      1.00      1.00       147\n",
      "           1       1.00      1.00      1.00       155\n",
      "\n",
      "    accuracy                           1.00       302\n",
      "   macro avg       1.00      1.00      1.00       302\n",
      "weighted avg       1.00      1.00      1.00       302\n",
      "\n"
     ]
    },
    {
     "data": {
      "image/png": "[encoded data removed]",
      "text/plain": [
       "<Figure size 640x480 with 2 Axes>"
      ]
     },
     "metadata": {},
     "output_type": "display_data"
    }
   ],
   "source": [
    "# Data splitting\n",
    "X_train, X_test, y_train, y_test = train_test_split(X, y, test_size=0.2, random_state=42)\n",
    "\n",
    "# Training models\n",
    "def train_and_evaluate_models(X_train, y_train, X_test, y_test):\n",
    "    # Train Logistic Regression model\n",
    "    logistic_model = LogisticRegression()\n",
    "    logistic_model.fit(X_train, y_train)\n",
    "\n",
    "    # Train Random Forest model\n",
    "    rf_model = RandomForestClassifier()\n",
    "    rf_model.fit(X_train, y_train)\n",
    "\n",
    "    # Train Decision Tree model\n",
    "    dt_model = DecisionTreeClassifier()\n",
    "    dt_model.fit(X_train, y_train)\n",
    "\n",
    "    # Train SVM model\n",
    "    svm_model = SVC()\n",
    "    svm_model.fit(X_train, y_train)\n",
    "\n",
    "    # Deep Learning model\n",
    "    dl_model = Sequential()\n",
    "    dl_model.add(Dense(512, input_dim=X_train.shape[1], activation='relu'))\n",
    "    dl_model.add(Dropout(0.5))\n",
    "    dl_model.add(Dense(256, activation='relu'))\n",
    "    dl_model.add(Dropout(0.5))\n",
    "    dl_model.add(Dense(1, activation='sigmoid'))\n",
    "\n",
    "    # Compile the model\n",
    "    dl_model.compile(loss='binary_crossentropy', optimizer='adam', metrics=['accuracy'])\n",
    "\n",
    "    # Train the model\n",
    "    dl_model.fit(X_train, y_train, epochs=5, batch_size=64, validation_data=(X_test, y_test))\n",
    "    \n",
    "    # Evaluate models\n",
    "    models = {\n",
    "        'Logistic Regression': logistic_model,\n",
    "        'Random Forest': rf_model,\n",
    "        'Decision Tree': dt_model,\n",
    "        'SVM': svm_model,\n",
    "        'Deep Learning': dl_model\n",
    "    }\n",
    "    \n",
    "    best_model = None\n",
    "    best_accuracy = 0\n",
    "\n",
    "    for name, model in models.items():\n",
    "        if name == 'Deep Learning':\n",
    "            y_pred = (model.predict(X_test) > 0.5).astype(\"int32\")\n",
    "        else:\n",
    "            y_pred = model.predict(X_test)\n",
    "        \n",
    "        accuracy = accuracy_score(y_test, y_pred)\n",
    "        report = classification_report(y_test, y_pred)\n",
    "        cm = confusion_matrix(y_test, y_pred)\n",
    "        \n",
    "        # Print the confusion matrix\n",
    "        print(f\"Confusion Matrix for {name}:\\n{cm}\\n\")\n",
    "        \n",
    "        if accuracy > best_accuracy:\n",
    "            best_accuracy = accuracy\n",
    "            best_model = model\n",
    "        \n",
    "        print(f\"{name} Accuracy: {accuracy}\")\n",
    "        print(f\"{name} Classification Report:\\n{report}\")\n",
    "\n",
    "        # Plot confusion matrix\n",
    "        disp = ConfusionMatrixDisplay(confusion_matrix=cm, display_labels=[0, 1])\n",
    "        disp.plot()\n",
    "        plt.title(f'Confusion Matrix for {name}')\n",
    "        plt.show()\n",
    "\n",
    "    return best_model\n",
    "\n",
    "# Train and evaluate models\n",
    "best_model = train_and_evaluate_models(X_train, y_train, X_test, y_test)"
   ]
  },
  {
   "cell_type": "code",
   "execution_count": 40,
   "metadata": {},
   "outputs": [],
   "source": [
    "# Function to scrape and preprocess new articles\n",
    "import requests\n",
    "from bs4 import BeautifulSoup\n",
    "\n",
    "def scrape_article(url):\n",
    "    try:\n",
    "        response = requests.get(url)\n",
    "        soup = BeautifulSoup(response.content, 'html.parser')\n",
    "        \n",
    "        # Extract title and body text\n",
    "        title = soup.title.string if soup.title else ''\n",
    "        paragraphs = soup.find_all('p')\n",
    "        content = ' '.join([para.get_text() for para in paragraphs])\n",
    "        \n",
    "        return title + ' ' + content\n",
    "    except Exception as e:\n",
    "        print(f\"Error scraping {url}: {e}\")\n",
    "        return ''\n",
    "\n",
    "def classify_text(text, model, vectorizer):\n",
    "    cleaned_text = preprocess_text(text)\n",
    "    features = vectorizer.transform([cleaned_text]).toarray()\n",
    "    if isinstance(model, Sequential):\n",
    "        prediction = (model.predict(features) > 0.5).astype(\"int32\")\n",
    "    else:\n",
    "        prediction = model.predict(features)\n",
    "    return \"Real News\" if prediction[0] == 1 else \"Fake News\""
   ]
  },
  {
   "cell_type": "code",
   "execution_count": 41,
   "metadata": {},
   "outputs": [
    {
     "data": {
      "application/vnd.jupyter.widget-view+json": {
       "model_id": "16adf880e24847859f64f39a565dea59",
       "version_major": 2,
       "version_minor": 0
      },
      "text/plain": [
       "Text(value='', description='URL:', placeholder='Enter news article URL')"
      ]
     },
     "metadata": {},
     "output_type": "display_data"
    },
    {
     "data": {
      "application/vnd.jupyter.widget-view+json": {
       "model_id": "75cb280ad2c14f519655b98d8c04ec32",
       "version_major": 2,
       "version_minor": 0
      },
      "text/plain": [
       "Button(description='Check News', icon='check', style=ButtonStyle(), tooltip='Click to check if the news is fak…"
      ]
     },
     "metadata": {},
     "output_type": "display_data"
    },
    {
     "data": {
      "application/vnd.jupyter.widget-view+json": {
       "model_id": "ccdc77099f6c4751b8efd5c54c07afc1",
       "version_major": 2,
       "version_minor": 0
      },
      "text/plain": [
       "Output()"
      ]
     },
     "metadata": {},
     "output_type": "display_data"
    }
   ],
   "source": [
    "# Interactive widget\n",
    "import ipywidgets as widgets\n",
    "from IPython.display import display, HTML\n",
    "\n",
    "def setup_interactive_widget(best_model, vectorizer):\n",
    "    # Input Section\n",
    "    url_input = widgets.Text(\n",
    "        value = '',\n",
    "        placeholder = 'Enter news article URL',\n",
    "        description = 'URL:',\n",
    "        disabled = False\n",
    "    )\n",
    "\n",
    "    # Run Button\n",
    "    run_button = widgets.Button(\n",
    "        description = 'Check News',\n",
    "        disabled = False,\n",
    "        button_style = '',\n",
    "        tooltip = 'Click to check if the news is fake',\n",
    "        icon = 'check'\n",
    "    )\n",
    "\n",
    "    # Output Section\n",
    "    output = widgets.Output()\n",
    "\n",
    "    def on_button_clicked(b):\n",
    "        with output:\n",
    "            output.clear_output()\n",
    "            \n",
    "            url = url_input.value\n",
    "            \n",
    "            # Scrape the article and classify the content\n",
    "            article_text = scrape_article(url)\n",
    "            result = classify_text(article_text, best_model, vectorizer)\n",
    "            \n",
    "            display(HTML(f\"<h3>Result: {result}</h3>\"))\n",
    "            display(HTML(f\"<h4>Suggested Alternative Sources to check for authenticity:</h4>\"))\n",
    "            display(HTML(\"\"\"\n",
    "            <ul>\n",
    "                <li><a href='https://www.bbc.com'>BBC News</a> - Known for its rigorous standards and global coverage.</li>\n",
    "                <li><a href='https://www.reuters.com'>Reuters</a> - Renowned for its accuracy and objectivity in reporting.</li>\n",
    "                <li><a href='https://www.apnews.com'>Associated Press (AP)</a> - A highly reliable news agency that provides factual news.</li>\n",
    "                <li><a href='https://www.nytimes.com'>The New York Times</a> - Esteemed for its thorough investigative journalism and in-depth reporting.</li>\n",
    "                <li><a href='https://www.washingtonpost.com'>The Washington Post</a> - Known for its comprehensive coverage and investigative reporting.</li>\n",
    "                <li><a href='https://www.theguardian.com'>The Guardian</a> - Offers detailed international and investigative journalism.</li>\n",
    "                <li><a href='https://www.wsj.com'>The Wall Street Journal</a> - Highly regarded for its financial and business news.</li>\n",
    "                <li><a href='https://www.npr.org'>NPR (National Public Radio)</a> - Trusted for its balanced and in-depth news coverage.</li>\n",
    "                <li><a href='https://www.bloomberg.com'>Bloomberg</a> - Respected for its financial news and economic analysis.</li>\n",
    "                <li><a href='https://www.aljazeera.com'>Al Jazeera</a> - Known for its comprehensive coverage of international news.</li>\n",
    "                <li><a href='https://www.economist.com'>The Economist</a> - Offers insightful analysis on global news and trends.</li>\n",
    "                <li><a href='https://www.politico.com'>Politico</a> - Focuses on political news with in-depth reporting.</li>\n",
    "                <li><a href='https://www.ft.com'>Financial Times</a> - Renowned for its financial and economic news coverage.</li>\n",
    "                <li><a href='https://www.cnn.com'>CNN</a> - Provides extensive news coverage with a focus on breaking news.</li>\n",
    "                <li><a href='https://www.cbsnews.com'>CBS News</a> - A trusted source for national and international news.</li>\n",
    "            </ul>\n",
    "            \"\"\"))\n",
    "\n",
    "    run_button.on_click(on_button_clicked)\n",
    "    display(url_input, run_button, output)\n",
    "    \n",
    "# Setup the interactive widget\n",
    "setup_interactive_widget(best_model, vectorizer)"
   ]
  },
  {
   "cell_type": "markdown",
   "metadata": {},
   "source": [
    "### Conclusion"
   ]
  },
  {
   "cell_type": "markdown",
   "metadata": {},
   "source": [
    "We successfully developed a comprehensive system to detect fake news by leveraging data scraping, preprocessing, and machine learning models. \n",
    "\n",
    "The final solution incorporates multiple classification algorithms, including logistic regression, random forest, decision tree, SVM, and deep learning, to ensure the best model is used for accurate predictions. \n",
    "\n",
    "An interactive widget was also created to enable users to input URLs and check the authenticity of news articles in real-time, providing alternative reliable sources for verification."
   ]
  },
  {
   "cell_type": "markdown",
   "metadata": {},
   "source": [
    "### Data Limitations and Challenges"
   ]
  },
  {
   "cell_type": "markdown",
   "metadata": {},
   "source": [
    "While developing this system, we faced several data limitations and challenges. The initial step of data scraping was resource-intensive and time-consuming, as it required fetching large volumes of data from various news websites. \n",
    "\n",
    "Additionally, obtaining data involved relying on sources that list fake news websites and real news sources; Wikipedia's list of fake news websites and Politifact's guide to fake news websites. These sources were essential for compiling a dataset of fake and real news articles, which was crucial for training our models.\n",
    "\n",
    "Despite these challenges, the final system demonstrates high accuracy in distinguishing between fake and real news, contributing to the fight against misinformation and helping users access reliable news sources."
   ]
  }
 ],
 "metadata": {
  "kernelspec": {
   "display_name": "Python 3 (ipykernel)",
   "language": "python",
   "name": "python3"
  },
  "language_info": {
   "codemirror_mode": {
    "name": "ipython",
    "version": 3
   },
   "file_extension": ".py",
   "mimetype": "text/x-python",
   "name": "python",
   "nbconvert_exporter": "python",
   "pygments_lexer": "ipython3",
   "version": "3.10.13"
  }
 },
 "nbformat": 4,
 "nbformat_minor": 4
}
